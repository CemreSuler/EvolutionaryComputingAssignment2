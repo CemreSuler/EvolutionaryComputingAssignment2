{
 "cells": [
  {
   "cell_type": "code",
   "execution_count": 1,
   "metadata": {},
   "outputs": [],
   "source": [
    "import pandas as pd"
   ]
  },
  {
   "cell_type": "code",
   "execution_count": 2,
   "metadata": {},
   "outputs": [],
   "source": [
    "import os\n",
    "\n",
    "# Get list of all CSV files in the directories\n",
    "alg1_files = [f for f in os.listdir('data/Algorithm1') if f.endswith('.csv')]\n",
    "alg2_files = [f for f in os.listdir('data/Algorithm2') if f.endswith('.csv')]\n",
    "\n",
    "# Read the CSV files into dataframes\n",
    "alg1 = [pd.read_csv(os.path.join('data/Algorithm1', f)) for f in alg1_files]\n",
    "alg2 = [pd.read_csv(os.path.join('data/Algorithm2', f)) for f in alg2_files]"
   ]
  },
  {
   "cell_type": "code",
   "execution_count": 8,
   "metadata": {},
   "outputs": [
    {
     "name": "stdout",
     "output_type": "stream",
     "text": [
      "28.978798092276993\n",
      "27.230091953578086\n",
      "25.89757703968621\n",
      "26.38125520771002\n",
      "29.557347803715846\n",
      "23.23104591064547\n",
      "26.441483277073548\n",
      "24.96793379776472\n",
      "19.641934297537542\n",
      "26.575220305741475\n"
     ]
    }
   ],
   "source": [
    "for i in alg2:\n",
    "\tprint(i[\"0\"][50])"
   ]
  }
 ],
 "metadata": {
  "kernelspec": {
   "display_name": "Python 3",
   "language": "python",
   "name": "python3"
  },
  "language_info": {
   "codemirror_mode": {
    "name": "ipython",
    "version": 3
   },
   "file_extension": ".py",
   "mimetype": "text/x-python",
   "name": "python",
   "nbconvert_exporter": "python",
   "pygments_lexer": "ipython3",
   "version": "3.12.1"
  }
 },
 "nbformat": 4,
 "nbformat_minor": 2
}
